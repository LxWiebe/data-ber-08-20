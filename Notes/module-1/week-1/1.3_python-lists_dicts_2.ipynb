{
 "cells": [
  {
   "cell_type": "markdown",
   "metadata": {},
   "source": [
    "## 1. Using dicts for control flow\n"
   ]
  },
  {
   "cell_type": "markdown",
   "metadata": {},
   "source": [
    "x < 10: chocolate\n",
    "10 <= x < 20: sanitizer\n",
    "20 <= x < 30: gift card\n",
    "40 <= x < 50: wine"
   ]
  },
  {
   "cell_type": "code",
   "execution_count": 1,
   "metadata": {},
   "outputs": [],
   "source": [
    "import random"
   ]
  },
  {
   "cell_type": "code",
   "execution_count": 2,
   "metadata": {},
   "outputs": [],
   "source": [
    "shoppers = random.sample(range(40), 20)"
   ]
  },
  {
   "cell_type": "code",
   "execution_count": 3,
   "metadata": {},
   "outputs": [
    {
     "data": {
      "text/plain": [
       "[31, 8, 13, 39, 37, 26, 10, 23, 16, 36, 28, 27, 34, 4, 14, 6, 7, 20, 11, 2]"
      ]
     },
     "execution_count": 3,
     "metadata": {},
     "output_type": "execute_result"
    }
   ],
   "source": [
    "shoppers"
   ]
  },
  {
   "cell_type": "code",
   "execution_count": 4,
   "metadata": {},
   "outputs": [
    {
     "name": "stdout",
     "output_type": "stream",
     "text": [
      "wine\n",
      "choco\n",
      "sanitizer\n",
      "wine\n",
      "wine\n",
      "gift card\n",
      "sanitizer\n",
      "gift card\n",
      "sanitizer\n",
      "wine\n",
      "gift card\n",
      "gift card\n",
      "wine\n",
      "choco\n",
      "sanitizer\n",
      "choco\n",
      "choco\n",
      "gift card\n",
      "sanitizer\n",
      "choco\n"
     ]
    }
   ],
   "source": [
    "for purchase in shoppers: \n",
    "    if purchase < 10:\n",
    "        print('choco')\n",
    "    elif purchase < 20:\n",
    "        print('sanitizer')\n",
    "    elif purchase < 30:\n",
    "        print('gift card')\n",
    "    elif purchase < 40:\n",
    "        print('wine')\n",
    "        \n",
    "# not elegant"
   ]
  },
  {
   "cell_type": "code",
   "execution_count": 5,
   "metadata": {},
   "outputs": [
    {
     "name": "stdout",
     "output_type": "stream",
     "text": [
      "3\n"
     ]
    },
    {
     "data": {
      "text/plain": [
       "0"
      ]
     },
     "execution_count": 5,
     "metadata": {},
     "output_type": "execute_result"
    }
   ],
   "source": [
    "# Simply (Zen ;)\n",
    "# by not checking for ranges:\n",
    "\n",
    "print(int(shoppers[0]/10))\n",
    "int((shoppers[1]/10))\n"
   ]
  },
  {
   "cell_type": "code",
   "execution_count": 6,
   "metadata": {},
   "outputs": [
    {
     "name": "stdout",
     "output_type": "stream",
     "text": [
      "wine\n",
      "choco\n",
      "sanitizer\n",
      "wine\n",
      "wine\n",
      "gift card\n",
      "sanitizer\n",
      "gift card\n",
      "sanitizer\n",
      "wine\n",
      "gift card\n",
      "gift card\n",
      "wine\n",
      "choco\n",
      "sanitizer\n",
      "choco\n",
      "choco\n",
      "gift card\n",
      "sanitizer\n",
      "choco\n"
     ]
    }
   ],
   "source": [
    "for purchase in shoppers: \n",
    "    purchase = int(purchase/10)\n",
    "    if purchase == 0:\n",
    "        print('choco')\n",
    "    elif purchase == 1:\n",
    "        print('sanitizer')\n",
    "    elif purchase == 2:\n",
    "        print('gift card')\n",
    "    else:\n",
    "        print('wine')\n",
    "        "
   ]
  },
  {
   "cell_type": "markdown",
   "metadata": {},
   "source": [
    "## Adding Dictionaries"
   ]
  },
  {
   "cell_type": "code",
   "execution_count": 7,
   "metadata": {},
   "outputs": [
    {
     "data": {
      "text/plain": [
       "'Wine'"
      ]
     },
     "execution_count": 7,
     "metadata": {},
     "output_type": "execute_result"
    }
   ],
   "source": [
    "rewards = {0: 'Chocolate', 1: 'Sanitizer', 2: 'Gift Card', 3: 'Wine'}\n",
    "rewards[3]"
   ]
  },
  {
   "cell_type": "code",
   "execution_count": 8,
   "metadata": {},
   "outputs": [
    {
     "name": "stdout",
     "output_type": "stream",
     "text": [
      "Wine\n",
      "Chocolate\n",
      "Sanitizer\n",
      "Wine\n",
      "Wine\n",
      "Gift Card\n",
      "Sanitizer\n",
      "Gift Card\n",
      "Sanitizer\n",
      "Wine\n",
      "Gift Card\n",
      "Gift Card\n",
      "Wine\n",
      "Chocolate\n",
      "Sanitizer\n",
      "Chocolate\n",
      "Chocolate\n",
      "Gift Card\n",
      "Sanitizer\n",
      "Chocolate\n"
     ]
    }
   ],
   "source": [
    "for purchase in shoppers: \n",
    "    purchase = int(purchase/10)\n",
    "    print(rewards[purchase])"
   ]
  },
  {
   "cell_type": "markdown",
   "metadata": {},
   "source": [
    "## Storing funtions in a dictionary"
   ]
  },
  {
   "cell_type": "code",
   "execution_count": 9,
   "metadata": {},
   "outputs": [],
   "source": [
    "def print_chocolate():\n",
    "    print('Chocolate')"
   ]
  },
  {
   "cell_type": "code",
   "execution_count": 10,
   "metadata": {},
   "outputs": [],
   "source": [
    "# calling vs passing\n",
    "# passing w/o paranthesis \n",
    "# calling with paranthesis \n",
    "\n",
    "# see global notes"
   ]
  },
  {
   "cell_type": "markdown",
   "metadata": {},
   "source": [
    "## 2.Using dicts to keep scores\n"
   ]
  },
  {
   "cell_type": "code",
   "execution_count": 12,
   "metadata": {},
   "outputs": [],
   "source": [
    "text = \"Peter piper picked pickeled Peppers\""
   ]
  },
  {
   "cell_type": "code",
   "execution_count": 13,
   "metadata": {},
   "outputs": [
    {
     "data": {
      "text/plain": [
       "'peter piper picked pickeled peppers'"
      ]
     },
     "execution_count": 13,
     "metadata": {},
     "output_type": "execute_result"
    }
   ],
   "source": [
    "text.lower()"
   ]
  },
  {
   "cell_type": "code",
   "execution_count": 14,
   "metadata": {},
   "outputs": [],
   "source": [
    "d = {'a':1}"
   ]
  },
  {
   "cell_type": "code",
   "execution_count": 15,
   "metadata": {},
   "outputs": [
    {
     "data": {
      "text/plain": [
       "True"
      ]
     },
     "execution_count": 15,
     "metadata": {},
     "output_type": "execute_result"
    }
   ],
   "source": [
    "'a' in d\n"
   ]
  },
  {
   "cell_type": "code",
   "execution_count": 16,
   "metadata": {},
   "outputs": [
    {
     "data": {
      "text/plain": [
       "False"
      ]
     },
     "execution_count": 16,
     "metadata": {},
     "output_type": "execute_result"
    }
   ],
   "source": [
    "'k' in d\n"
   ]
  },
  {
   "cell_type": "code",
   "execution_count": 17,
   "metadata": {},
   "outputs": [
    {
     "data": {
      "text/plain": [
       "dict_values([1])"
      ]
     },
     "execution_count": 17,
     "metadata": {},
     "output_type": "execute_result"
    }
   ],
   "source": [
    "d.values()"
   ]
  },
  {
   "cell_type": "code",
   "execution_count": 18,
   "metadata": {},
   "outputs": [
    {
     "data": {
      "text/plain": [
       "dict_keys(['a'])"
      ]
     },
     "execution_count": 18,
     "metadata": {},
     "output_type": "execute_result"
    }
   ],
   "source": [
    "d.keys()"
   ]
  },
  {
   "cell_type": "code",
   "execution_count": 19,
   "metadata": {},
   "outputs": [],
   "source": [
    "# you can use list operators on this "
   ]
  },
  {
   "cell_type": "code",
   "execution_count": 23,
   "metadata": {},
   "outputs": [],
   "source": [
    "letter_occurences = {}\n",
    "for letter in text.lower():\n",
    "    if letter in letter_occurences:\n",
    "        letter_occurences[letter] += 1\n",
    "    else: \n",
    "        letter_occurences[letter] = 1"
   ]
  },
  {
   "cell_type": "code",
   "execution_count": 24,
   "metadata": {},
   "outputs": [
    {
     "data": {
      "text/plain": [
       "{'p': 8,\n",
       " 'e': 8,\n",
       " 't': 1,\n",
       " 'r': 3,\n",
       " ' ': 4,\n",
       " 'i': 3,\n",
       " 'c': 2,\n",
       " 'k': 2,\n",
       " 'd': 2,\n",
       " 'l': 1,\n",
       " 's': 1}"
      ]
     },
     "execution_count": 24,
     "metadata": {},
     "output_type": "execute_result"
    }
   ],
   "source": [
    "letter_occurences\n"
   ]
  },
  {
   "cell_type": "code",
   "execution_count": null,
   "metadata": {},
   "outputs": [],
   "source": []
  }
 ],
 "metadata": {
  "kernelspec": {
   "display_name": "Python 3",
   "language": "python",
   "name": "python3"
  },
  "language_info": {
   "codemirror_mode": {
    "name": "ipython",
    "version": 3
   },
   "file_extension": ".py",
   "mimetype": "text/x-python",
   "name": "python",
   "nbconvert_exporter": "python",
   "pygments_lexer": "ipython3",
   "version": "3.8.4"
  }
 },
 "nbformat": 4,
 "nbformat_minor": 4
}
