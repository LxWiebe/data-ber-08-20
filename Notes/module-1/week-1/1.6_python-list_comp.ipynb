{
 "cells": [
  {
   "cell_type": "markdown",
   "metadata": {},
   "source": [
    "## List Comprehensions"
   ]
  },
  {
   "cell_type": "code",
   "execution_count": 1,
   "metadata": {},
   "outputs": [],
   "source": [
    "sample = list(range(10))"
   ]
  },
  {
   "cell_type": "code",
   "execution_count": 2,
   "metadata": {},
   "outputs": [
    {
     "data": {
      "text/plain": [
       "[0, 1, 2, 3, 4, 5, 6, 7, 8, 9]"
      ]
     },
     "execution_count": 2,
     "metadata": {},
     "output_type": "execute_result"
    }
   ],
   "source": [
    "sample"
   ]
  },
  {
   "cell_type": "code",
   "execution_count": 4,
   "metadata": {},
   "outputs": [
    {
     "name": "stdout",
     "output_type": "stream",
     "text": [
      "[10, 11, 12, 13, 14, 15, 16, 17, 18, 19]\n"
     ]
    }
   ],
   "source": [
    "sample_plus_10 = []\n",
    "for i in sample:\n",
    "    sample_plus_10.append(i + 10)\n",
    "print(sample_plus_10)"
   ]
  },
  {
   "cell_type": "code",
   "execution_count": 6,
   "metadata": {},
   "outputs": [
    {
     "data": {
      "text/plain": [
       "[10, 11, 12, 13, 14, 15, 16, 17, 18, 19]"
      ]
     },
     "execution_count": 6,
     "metadata": {},
     "output_type": "execute_result"
    }
   ],
   "source": [
    "[i + 10 for i in sample]\n",
    "# You dont need an append. List Comprehension. "
   ]
  },
  {
   "cell_type": "code",
   "execution_count": 10,
   "metadata": {},
   "outputs": [],
   "source": [
    "sample_plus_10_2 = [i + 10 for i in sample]\n",
    "# Save it"
   ]
  },
  {
   "cell_type": "markdown",
   "metadata": {},
   "source": [
    "List Compr\n",
    "- use brackets to tell python you want to apply list compr []\n",
    "- a list compr returns a list\n",
    "1. component - function or transformation \n",
    "2. component - loop\n"
   ]
  },
  {
   "cell_type": "code",
   "execution_count": 11,
   "metadata": {},
   "outputs": [
    {
     "data": {
      "text/plain": [
       "list"
      ]
     },
     "execution_count": 11,
     "metadata": {},
     "output_type": "execute_result"
    }
   ],
   "source": [
    "type(sample_plus_10_2)"
   ]
  },
  {
   "cell_type": "code",
   "execution_count": 12,
   "metadata": {},
   "outputs": [],
   "source": [
    "import random \n",
    "another_sample = random.sample(range(100), 40)"
   ]
  },
  {
   "cell_type": "code",
   "execution_count": 14,
   "metadata": {},
   "outputs": [
    {
     "data": {
      "text/plain": [
       "[0, 77, 74, 52, 2, 81, 86, 96, 34, 15]"
      ]
     },
     "execution_count": 14,
     "metadata": {},
     "output_type": "execute_result"
    }
   ],
   "source": [
    "another_sample[:10]"
   ]
  },
  {
   "cell_type": "code",
   "execution_count": 16,
   "metadata": {},
   "outputs": [
    {
     "name": "stdout",
     "output_type": "stream",
     "text": [
      "[-3, 77, 71, 49, -1, 81, 83, 93, 31, 15, 63, 87, 67, 5, 11, 67, 63, 13, 41, 41, 75, 51, 29, 7, 85, 39, 99, 91, 39, 47, 1, 31, 37, 73, 13, 61, 9, 3, 27, 29]\n"
     ]
    }
   ],
   "source": [
    "# iterate over another_sample and keep only those elements that are even \n",
    "# for those that are even, subtract 3\n",
    "\n",
    "even_minus_three = []\n",
    "for i in another_sample:\n",
    "    # check if even\n",
    "    if i%2 == 0:\n",
    "        even_minus_three.append(i-3)\n",
    "    else:\n",
    "        even_minus_three.append(i)\n",
    "print(even_minus_three)"
   ]
  },
  {
   "cell_type": "code",
   "execution_count": null,
   "metadata": {},
   "outputs": [],
   "source": [
    "even_minus_three = []\n",
    "for i in another_sample:\n",
    "    # check if even\n",
    "    if i%2 == 0:\n",
    "        even_minus_three.append(i-3)\n",
    "    else:\n",
    "        even_minus_three.append(i)\n",
    "print(even_minus_three)"
   ]
  }
 ],
 "metadata": {
  "kernelspec": {
   "display_name": "Python 3",
   "language": "python",
   "name": "python3"
  },
  "language_info": {
   "codemirror_mode": {
    "name": "ipython",
    "version": 3
   },
   "file_extension": ".py",
   "mimetype": "text/x-python",
   "name": "python",
   "nbconvert_exporter": "python",
   "pygments_lexer": "ipython3",
   "version": "3.8.5"
  }
 },
 "nbformat": 4,
 "nbformat_minor": 4
}
